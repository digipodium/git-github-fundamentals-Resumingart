{
  "nbformat": 4,
  "nbformat_minor": 0,
  "metadata": {
    "colab": {
      "name": "Test.ipynb",
      "provenance": [],
      "collapsed_sections": []
    },
    "kernelspec": {
      "name": "python3",
      "display_name": "Python 3"
    },
    "language_info": {
      "name": "python"
    }
  },
  "cells": [
    {
      "cell_type": "code",
      "metadata": {
        "colab": {
          "base_uri": "https://localhost:8080/"
        },
        "id": "PsnRe6WsXigr",
        "outputId": "088ae02f-1f84-4891-da7c-e87e03940886"
      },
      "source": [
        "x=5\n",
        "y=5\n",
        "x==y"
      ],
      "execution_count": null,
      "outputs": [
        {
          "output_type": "execute_result",
          "data": {
            "text/plain": [
              "True"
            ]
          },
          "metadata": {
            "tags": []
          },
          "execution_count": 2
        }
      ]
    },
    {
      "cell_type": "code",
      "metadata": {
        "colab": {
          "base_uri": "https://localhost:8080/"
        },
        "id": "_-JjpnkXX3Cf",
        "outputId": "9fc4f0b3-317a-49ff-a805-ad79d0d083ee"
      },
      "source": [
        "fruits=['banana','apple','pear']\n",
        "if fruits:\n",
        "  print(f\"we have {len(fruits)} fruits\")"
      ],
      "execution_count": null,
      "outputs": [
        {
          "output_type": "stream",
          "text": [
            "we have 3 fruits\n"
          ],
          "name": "stdout"
        }
      ]
    },
    {
      "cell_type": "code",
      "metadata": {
        "colab": {
          "base_uri": "https://localhost:8080/"
        },
        "id": "K8gBlQkZYUXa",
        "outputId": "b5bda51b-d925-4eb5-c978-15d5ceebbbe5"
      },
      "source": [
        "fruitstring=\"banana,pear,apple\"\n",
        "fruitlist=fruitstring.split(',')\n",
        "fruitlist"
      ],
      "execution_count": null,
      "outputs": [
        {
          "output_type": "execute_result",
          "data": {
            "text/plain": [
              "['banana', 'pear', 'apple']"
            ]
          },
          "metadata": {
            "tags": []
          },
          "execution_count": 8
        }
      ]
    },
    {
      "cell_type": "code",
      "metadata": {
        "colab": {
          "base_uri": "https://localhost:8080/"
        },
        "id": "u9fmPxPHYxk_",
        "outputId": "a42dc383-9e99-4055-ed2a-1fbd08e442fd"
      },
      "source": [
        "quotestring=\"A computer would deserve to be called intelligent if it could deceive a human into believing that it was human\"\n",
        "quotelist=quotestring.split(\" \")\n",
        "print(quotelist)"
      ],
      "execution_count": null,
      "outputs": [
        {
          "output_type": "stream",
          "text": [
            "['A', 'computer', 'would', 'deserve', 'to', 'be', 'called', 'intelligent', 'if', 'it', 'could', 'deceive', 'a', 'human', 'into', 'believing', 'that', 'it', 'was', 'human']\n"
          ],
          "name": "stdout"
        }
      ]
    },
    {
      "cell_type": "code",
      "metadata": {
        "colab": {
          "base_uri": "https://localhost:8080/"
        },
        "id": "vUzLF_zeZr-d",
        "outputId": "a2d801f2-ec35-4957-fe05-f6c2db824470"
      },
      "source": [
        "numberoftwoletterwords=0\n",
        "for word in quotelist:\n",
        "  if ((len(word)) == 2):\n",
        "    numberoftwoletterwords += 1\n",
        "print(numberoftwoletterwords ==5)"
      ],
      "execution_count": null,
      "outputs": [
        {
          "output_type": "stream",
          "text": [
            "True\n"
          ],
          "name": "stdout"
        }
      ]
    },
    {
      "cell_type": "code",
      "metadata": {
        "colab": {
          "base_uri": "https://localhost:8080/"
        },
        "id": "70t4XpoWbE5j",
        "outputId": "b07bbb00-3004-40c1-ddda-948584451059"
      },
      "source": [
        "fruitlist=['banana','pear','apple']\n",
        "delimiter=\",\"\n",
        "fruitstring = delimiter.join(fruitlist)\n",
        "print(fruitstring)"
      ],
      "execution_count": null,
      "outputs": [
        {
          "output_type": "stream",
          "text": [
            "banana,pear,apple\n"
          ],
          "name": "stdout"
        }
      ]
    },
    {
      "cell_type": "code",
      "metadata": {
        "colab": {
          "base_uri": "https://localhost:8080/"
        },
        "id": "uASBSWgobjn5",
        "outputId": "10794d06-0256-4a81-8043-ce3104fef8ea"
      },
      "source": [
        "text = \"we spend our time searching for security and hate it when we get it\"\n",
        "found = text.find('security')\n",
        "if found == -1:\n",
        "  print(\"No security found! :\")\n",
        "else:\n",
        "  print(\"security found at position \" +str(found))"
      ],
      "execution_count": null,
      "outputs": [
        {
          "output_type": "stream",
          "text": [
            "security found at position 32\n"
          ],
          "name": "stdout"
        }
      ]
    },
    {
      "cell_type": "code",
      "metadata": {
        "colab": {
          "base_uri": "https://localhost:8080/"
        },
        "id": "2FCcL0puc2cm",
        "outputId": "8ba3aea9-5ac3-4925-fe2c-c5f8b2e94196"
      },
      "source": [
        "text = \"You can not compare apples and pears\"\n",
        "text = text.replace(\"pears\",\"apples\")\n",
        "text = text.replace(\"not\",\"\")\n",
        "print(text)"
      ],
      "execution_count": null,
      "outputs": [
        {
          "output_type": "stream",
          "text": [
            "You can  compare apples and apples\n"
          ],
          "name": "stdout"
        }
      ]
    },
    {
      "cell_type": "code",
      "metadata": {
        "colab": {
          "base_uri": "https://localhost:8080/"
        },
        "id": "6SUthlV6dZPs",
        "outputId": "67553d7d-2e39-4e5d-e027-1ab0d9b8a19b"
      },
      "source": [
        "text = \"Research has shown that it is often still possible to understand text even if all vowels are removed \"\n",
        "for vowel in (\"a\",\"i\",\"e\",\"o\",\"u\"):\n",
        "  text=text.replace(vowel,\"\")\n",
        "print(text)"
      ],
      "execution_count": null,
      "outputs": [
        {
          "output_type": "stream",
          "text": [
            "Rsrch hs shwn tht t s ftn stll pssbl t ndrstnd txt vn f ll vwls r rmvd \n"
          ],
          "name": "stdout"
        }
      ]
    },
    {
      "cell_type": "code",
      "metadata": {
        "colab": {
          "base_uri": "https://localhost:8080/"
        },
        "id": "4XYidY-DeAl-",
        "outputId": "27f07015-bfe4-4146-c690-9d469fb6ff5c"
      },
      "source": [
        "s= \"  strip me!  \"\n",
        "print(s.strip())"
      ],
      "execution_count": null,
      "outputs": [
        {
          "output_type": "stream",
          "text": [
            "strip me\n"
          ],
          "name": "stdout"
        }
      ]
    },
    {
      "cell_type": "code",
      "metadata": {
        "colab": {
          "base_uri": "https://localhost:8080/"
        },
        "id": "eEeXvzTXeMRl",
        "outputId": "df9bf120-394c-4d62-ca59-98687795a8bb"
      },
      "source": [
        "teachers = \"Folgert Kardorp and Maarten van Gompel\"\n",
        "print(teachers.lower())\n",
        "print(teachers.upper())"
      ],
      "execution_count": null,
      "outputs": [
        {
          "output_type": "stream",
          "text": [
            "folgert kardorp and maarten van gompel\n",
            "FOLGERT KARDORP AND MAARTEN VAN GOMPEL\n"
          ],
          "name": "stdout"
        }
      ]
    },
    {
      "cell_type": "code",
      "metadata": {
        "colab": {
          "base_uri": "https://localhost:8080/"
        },
        "id": "G1_btUhPepin",
        "outputId": "0722b84a-2f87-4c79-cddd-1c1d75c17c1c"
      },
      "source": [
        "words = [\"BlA\",\"plop\",\"blA\",\"bla\",\"PLop\",\"bLa\",\"pLop\",\"BLA\"]\n",
        "count = 0\n",
        "for word in words:\n",
        "  if word.lower() == \"bla\":\n",
        "    count +=1\n",
        "print(count)"
      ],
      "execution_count": null,
      "outputs": [
        {
          "output_type": "stream",
          "text": [
            "5\n"
          ],
          "name": "stdout"
        }
      ]
    },
    {
      "cell_type": "code",
      "metadata": {
        "colab": {
          "base_uri": "https://localhost:8080/"
        },
        "id": "a72PgIlFfiML",
        "outputId": "1f980f22-6878-41d1-973b-73573ebdc6f3"
      },
      "source": [
        "fruittuple = ('banana','apple','pear')\n",
        "print(fruittuple[0])"
      ],
      "execution_count": null,
      "outputs": [
        {
          "output_type": "stream",
          "text": [
            "banana\n"
          ],
          "name": "stdout"
        }
      ]
    },
    {
      "cell_type": "code",
      "metadata": {
        "colab": {
          "base_uri": "https://localhost:8080/"
        },
        "id": "9oOZR3Mvf3YY",
        "outputId": "029e1b4c-544b-40e8-feb1-a050c5d33a70"
      },
      "source": [
        "fruitset = { 'banana','apple','pear'}\n",
        "fruitset.add('banana')\n",
        "fruitset.add('orange')\n",
        "print(len(fruitset))"
      ],
      "execution_count": null,
      "outputs": [
        {
          "output_type": "stream",
          "text": [
            "4\n"
          ],
          "name": "stdout"
        }
      ]
    },
    {
      "cell_type": "code",
      "metadata": {
        "colab": {
          "base_uri": "https://localhost:8080/"
        },
        "id": "Fu6Ta8pfgNpv",
        "outputId": "1a87d514-8d8b-443d-878c-c492cc5c8279"
      },
      "source": [
        "numbers = [1,2,3,4,5]\n",
        "print(min(numbers))\n",
        "print(max(numbers))\n",
        "print(sum(numbers))"
      ],
      "execution_count": null,
      "outputs": [
        {
          "output_type": "stream",
          "text": [
            "1\n",
            "5\n",
            "15\n"
          ],
          "name": "stdout"
        }
      ]
    },
    {
      "cell_type": "code",
      "metadata": {
        "colab": {
          "base_uri": "https://localhost:8080/"
        },
        "id": "a6a-35g7gcpp",
        "outputId": "34c01776-737d-4fe3-9cc1-ef0e6d129981"
      },
      "source": [
        "numbers = [1,2,3,4,5]\n",
        "doublenumbers = [number*2 for number in numbers]\n",
        "print(doublenumbers)"
      ],
      "execution_count": null,
      "outputs": [
        {
          "output_type": "stream",
          "text": [
            "[2, 4, 6, 8, 10]\n"
          ],
          "name": "stdout"
        }
      ]
    },
    {
      "cell_type": "code",
      "metadata": {
        "colab": {
          "base_uri": "https://localhost:8080/"
        },
        "id": "tKETaw1RhD9M",
        "outputId": "813475d5-22ad-44f4-f540-99c646bb66e4"
      },
      "source": [
        "numbers = [1,2,3,4,5]\n",
        "numbers =[x+2 for x in numbers]\n",
        "numbers"
      ],
      "execution_count": null,
      "outputs": [
        {
          "output_type": "execute_result",
          "data": {
            "text/plain": [
              "[3, 4, 5, 6, 7]"
            ]
          },
          "metadata": {
            "tags": []
          },
          "execution_count": 40
        }
      ]
    },
    {
      "cell_type": "code",
      "metadata": {
        "colab": {
          "base_uri": "https://localhost:8080/"
        },
        "id": "mH194zkKhVGo",
        "outputId": "365086ca-4823-40d6-8801-16e5338fd97b"
      },
      "source": [
        "import random \n",
        "number = 0\n",
        "while number != 42:\n",
        "  number = random.randint(0,100)\n",
        "print(number)"
      ],
      "execution_count": null,
      "outputs": [
        {
          "output_type": "stream",
          "text": [
            "42\n"
          ],
          "name": "stdout"
        }
      ]
    },
    {
      "cell_type": "code",
      "metadata": {
        "colab": {
          "base_uri": "https://localhost:8080/",
          "height": 214
        },
        "id": "0CXMpWijhuMc",
        "outputId": "258956f2-602d-483f-b9c3-835fbef66c53"
      },
      "source": [
        "f= open('data/austen-emma-excerpt.txt')\n",
        "text = f.read()\n",
        "f.close\n",
        "print(text)"
      ],
      "execution_count": null,
      "outputs": [
        {
          "output_type": "error",
          "ename": "FileNotFoundError",
          "evalue": "ignored",
          "traceback": [
            "\u001b[0;31m---------------------------------------------------------------------------\u001b[0m",
            "\u001b[0;31mFileNotFoundError\u001b[0m                         Traceback (most recent call last)",
            "\u001b[0;32m<ipython-input-36-465565b1a97a>\u001b[0m in \u001b[0;36m<module>\u001b[0;34m()\u001b[0m\n\u001b[0;32m----> 1\u001b[0;31m \u001b[0mf\u001b[0m\u001b[0;34m=\u001b[0m \u001b[0mopen\u001b[0m\u001b[0;34m(\u001b[0m\u001b[0;34m'data/austen-emma-excerpt.txt'\u001b[0m\u001b[0;34m)\u001b[0m\u001b[0;34m\u001b[0m\u001b[0;34m\u001b[0m\u001b[0m\n\u001b[0m\u001b[1;32m      2\u001b[0m \u001b[0mtext\u001b[0m \u001b[0;34m=\u001b[0m \u001b[0mf\u001b[0m\u001b[0;34m.\u001b[0m\u001b[0mread\u001b[0m\u001b[0;34m(\u001b[0m\u001b[0;34m)\u001b[0m\u001b[0;34m\u001b[0m\u001b[0;34m\u001b[0m\u001b[0m\n\u001b[1;32m      3\u001b[0m \u001b[0mf\u001b[0m\u001b[0;34m.\u001b[0m\u001b[0mclose\u001b[0m\u001b[0;34m\u001b[0m\u001b[0;34m\u001b[0m\u001b[0m\n\u001b[1;32m      4\u001b[0m \u001b[0mprint\u001b[0m\u001b[0;34m(\u001b[0m\u001b[0mtext\u001b[0m\u001b[0;34m)\u001b[0m\u001b[0;34m\u001b[0m\u001b[0;34m\u001b[0m\u001b[0m\n",
            "\u001b[0;31mFileNotFoundError\u001b[0m: [Errno 2] No such file or directory: 'data/austen-emma-excerpt.txt'"
          ]
        }
      ]
    },
    {
      "cell_type": "code",
      "metadata": {
        "colab": {
          "base_uri": "https://localhost:8080/",
          "height": 197
        },
        "id": "y9DcPmtkiJQD",
        "outputId": "31257c11-81b6-405c-ad58-f56149c4620c"
      },
      "source": [
        "f=open('data/testoutput.txt')\n",
        "f.write(\"Hello world!\")\n",
        "f.close"
      ],
      "execution_count": null,
      "outputs": [
        {
          "output_type": "error",
          "ename": "FileNotFoundError",
          "evalue": "ignored",
          "traceback": [
            "\u001b[0;31m---------------------------------------------------------------------------\u001b[0m",
            "\u001b[0;31mFileNotFoundError\u001b[0m                         Traceback (most recent call last)",
            "\u001b[0;32m<ipython-input-37-86d19529c7eb>\u001b[0m in \u001b[0;36m<module>\u001b[0;34m()\u001b[0m\n\u001b[0;32m----> 1\u001b[0;31m \u001b[0mf\u001b[0m\u001b[0;34m=\u001b[0m\u001b[0mopen\u001b[0m\u001b[0;34m(\u001b[0m\u001b[0;34m'data/testoutput.txt'\u001b[0m\u001b[0;34m)\u001b[0m\u001b[0;34m\u001b[0m\u001b[0;34m\u001b[0m\u001b[0m\n\u001b[0m\u001b[1;32m      2\u001b[0m \u001b[0mf\u001b[0m\u001b[0;34m.\u001b[0m\u001b[0mwrite\u001b[0m\u001b[0;34m(\u001b[0m\u001b[0;34m\"Hello world!\"\u001b[0m\u001b[0;34m)\u001b[0m\u001b[0;34m\u001b[0m\u001b[0;34m\u001b[0m\u001b[0m\n\u001b[1;32m      3\u001b[0m \u001b[0mf\u001b[0m\u001b[0;34m.\u001b[0m\u001b[0mclose\u001b[0m\u001b[0;34m\u001b[0m\u001b[0;34m\u001b[0m\u001b[0m\n",
            "\u001b[0;31mFileNotFoundError\u001b[0m: [Errno 2] No such file or directory: 'data/testoutput.txt'"
          ]
        }
      ]
    }
  ]
}